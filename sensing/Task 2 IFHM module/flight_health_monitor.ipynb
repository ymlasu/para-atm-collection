{
 "cells": [
  {
   "cell_type": "markdown",
   "metadata": {},
   "source": [
    "# Flight health monitor (fhm) sub module\n",
    "\n",
    "Author: Ruslan Polichshuk, Adaptive Intelligent Materials & Systems (AIMS) Center, Arizona State University, rpolichs@asu.edu\n",
    "\n",
    "This module is used for calculating Mahalanobis distance to detect aircraft upset precursors\n",
    "- Upset metric = 1: upset\n",
    "- Upset metric = 0: normal"
   ]
  },
  {
   "cell_type": "code",
   "execution_count": null,
   "metadata": {},
   "outputs": [],
   "source": [
    "import numpy as np\n",
    "\n",
    "class fhm:    \n",
    "    def __init__(self, rec_error, mean, cov, cov_inverse, th_Mahal_dist):        \n",
    "        self.rec_error = rec_error\n",
    "        self.mean = mean\n",
    "        self.cov = cov \n",
    "        self.cov_inverse = cov_inverse\n",
    "        self.th_Mahal_dist = th_Mahal_dist\n",
    "     \n",
    "    def rt_fhm(self):        \n",
    "        ctrd_error = self.rec_error - self.mean\n",
    "        Mahal_dist = np.sqrt(np.sum(ctrd_error * self.cov_inverse * ctrd_error.T))\n",
    "        \n",
    "        if Mahal_dist > self.th_Mahal_dist:\n",
    "            upset_metric = 1\n",
    "            print(\"################ Upset detected ################\")\n",
    "        else:\n",
    "            upset_metric = 0\n",
    "        \n",
    "        return Mahal_dist, upset_metric"
   ]
  }
 ],
 "metadata": {
  "kernelspec": {
   "display_name": "Python 3",
   "language": "python",
   "name": "python3"
  },
  "language_info": {
   "codemirror_mode": {
    "name": "ipython",
    "version": 3
   },
   "file_extension": ".py",
   "mimetype": "text/x-python",
   "name": "python",
   "nbconvert_exporter": "python",
   "pygments_lexer": "ipython3",
   "version": "3.7.3"
  }
 },
 "nbformat": 4,
 "nbformat_minor": 4
}
